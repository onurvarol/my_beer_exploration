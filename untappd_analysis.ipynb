{
 "cells": [
  {
   "cell_type": "code",
   "execution_count": 1,
   "metadata": {
    "collapsed": false
   },
   "outputs": [
    {
     "name": "stdout",
     "output_type": "stream",
     "text": [
      "Populating the interactive namespace from numpy and matplotlib\n"
     ]
    }
   ],
   "source": [
    "%pylab inline\n",
    "import os, sys, glob\n",
    "import time\n",
    "import numpy as np\n",
    "import pickle\n",
    "import json\n",
    "\n",
    "import matplotlib as mpl\n",
    "import matplotlib.pyplot as plt"
   ]
  },
  {
   "cell_type": "code",
   "execution_count": 2,
   "metadata": {
    "collapsed": false
   },
   "outputs": [],
   "source": [
    "# Load credential data \n",
    "from untappd_credentials import *\n",
    "\n",
    "USER_NAME = 'ovarol'\n",
    "#CLIENT_ID = \"XXXXXXXXXXXXXX\"\n",
    "#CLIENT_SECRET = \"XXXXXXXXXXXXXX\"\n",
    "#print 'Id:\\t{}\\nSecret:\\t{}\\n'.format(CLIENT_ID, CLIENT_SECRET)"
   ]
  },
  {
   "cell_type": "code",
   "execution_count": 3,
   "metadata": {
    "collapsed": false
   },
   "outputs": [],
   "source": [
    "# Using API from https://github.com/marshall91/pythonUntappd\n",
    "import untappd_api as pythonUntappd\n",
    "\n",
    "api = pythonUntappd.api(CLIENT_ID,CLIENT_SECRET)\n",
    "userData = api.user_info(USER_NAME)['response']\n",
    "#print json.dumps(userData, indent=4)"
   ]
  },
  {
   "cell_type": "code",
   "execution_count": 4,
   "metadata": {
    "collapsed": false
   },
   "outputs": [
    {
     "name": "stdout",
     "output_type": "stream",
     "text": [
      "Unique beers collected: 25\n",
      "Unique beers collected: 50\n",
      "Unique beers collected: 75\n",
      "Unique beers collected: 100\n",
      "Unique beers collected: 120\n",
      "Unique beers collected: 120\n"
     ]
    }
   ],
   "source": [
    "uniqueBeers = list()\n",
    "\n",
    "count, keepCollect = 0, True\n",
    "scanCount = 0\n",
    "while keepCollect:\n",
    "    resp = api.user_distinct_beers(USER_NAME, offset=count)['response']\n",
    "    count += resp['beers']['count']\n",
    "    uniqueBeers.extend(resp['beers']['items'])\n",
    "    print 'Unique beers collected: {}'.format(len(uniqueBeers))\n",
    "    scanCount += 1\n",
    "    if resp['beers']['count'] <> 0:\n",
    "        time.sleep(1)\n",
    "    else:\n",
    "        break"
   ]
  },
  {
   "cell_type": "code",
   "execution_count": 7,
   "metadata": {
    "collapsed": false
   },
   "outputs": [
    {
     "name": "stdout",
     "output_type": "stream",
     "text": [
      "{\n",
      "    \"beer\": {\n",
      "        \"auth_rating\": 0, \n",
      "        \"beer_abv\": 5.6, \n",
      "        \"beer_description\": \"Tuborg Gold is brewed on pure lager malt and has an inviting aroma of fruit and grain with notes of fennel. It's an elegant beer with an excellent balance between a dry richness, a certain liveliness and a subtle hob character. Serve it with fish dishes and spicy recipes. Enjoy at 5-8 C. \", \n",
      "        \"beer_ibu\": 0, \n",
      "        \"beer_label\": \"https://untappd.akamaized.net/site/beer_logos/beer-TuborgGold_7520.jpeg\", \n",
      "        \"beer_name\": \"Tuborg Guld/Gold\", \n",
      "        \"beer_slug\": \"carlsberg-group-tuborg-guld-gold\", \n",
      "        \"beer_style\": \"Lager - Pale\", \n",
      "        \"bid\": 7520, \n",
      "        \"created_at\": \"Sat, 06 Nov 2010 06:36:28 +0000\", \n",
      "        \"rating_count\": 12704, \n",
      "        \"rating_score\": 2.94, \n",
      "        \"wish_list\": false\n",
      "    }, \n",
      "    \"brewery\": {\n",
      "        \"brewery_active\": 1, \n",
      "        \"brewery_id\": 344, \n",
      "        \"brewery_label\": \"https://untappd.akamaized.net/site/brewery_logos/brewery-CarlsbergBrewery_344.jpeg\", \n",
      "        \"brewery_name\": \"Carlsberg Group\", \n",
      "        \"brewery_slug\": \"carlsberg-group\", \n",
      "        \"contact\": {\n",
      "            \"facebook\": \"http://www.facebook.com/Carlsberg\", \n",
      "            \"instagram\": \"\", \n",
      "            \"twitter\": \"carlsberggroup\", \n",
      "            \"url\": \"www.carlsberggroup.com\"\n",
      "        }, \n",
      "        \"country_name\": \"Denmark\", \n",
      "        \"location\": {\n",
      "            \"brewery_city\": \"Copenhagen\", \n",
      "            \"brewery_state\": \"\", \n",
      "            \"lat\": 55.6673, \n",
      "            \"lng\": 12.535\n",
      "        }\n",
      "    }, \n",
      "    \"count\": 1, \n",
      "    \"first_checkin_id\": 342270600, \n",
      "    \"first_created_at\": \"Sat, 30 Jul 2016 13:57:59 -0400\", \n",
      "    \"first_had\": \"Sat, 30 Jul 2016 13:57:59 -0400\", \n",
      "    \"rating_score\": 3.25, \n",
      "    \"recent_checkin_id\": 342270600, \n",
      "    \"recent_created_at\": \"Sat, 30 Jul 2016 13:57:59 -0400\", \n",
      "    \"recent_created_at_timezone\": \"-4\"\n",
      "}\n"
     ]
    }
   ],
   "source": [
    "#print json.dumps(uniqueBeers, indent=4, sort_keys=True)\n",
    "print json.dumps(uniqueBeers[0], indent=4, sort_keys=True)"
   ]
  },
  {
   "cell_type": "code",
   "execution_count": 5,
   "metadata": {
    "collapsed": false
   },
   "outputs": [
    {
     "name": "stdout",
     "output_type": "stream",
     "text": [
      "Porter - American 7\n",
      "Stout - Milk / Sweet 7\n",
      "Pale Ale - American 6\n",
      "Stout - American Imperial / Double 5\n",
      "IPA - American 5\n",
      "Stout - Russian Imperial 5\n",
      "Scotch Ale / Wee Heavy 4\n",
      "Stout - American 4\n",
      "IPA - Imperial / Double 4\n",
      "Lager - Pale 4\n",
      "Porter - Other 4\n",
      "Rye Beer / Rye IPA 3\n",
      "Stout - Other 3\n",
      "Stout - Imperial / Double 3\n",
      "Pale Wheat Ale - American 3\n",
      "Dunkelweizen 3\n",
      "Red Ale - American Amber / Red 2\n",
      "Stout - Oatmeal 2\n",
      "Altbier 2\n",
      "Pilsner - Other 2\n",
      "Kölsch 2\n",
      "Brown Ale - American 2\n",
      "Lager - Helles 2\n",
      "Hefeweizen 2\n",
      "Stout - Irish Dry 2\n",
      "Pale Ale - Belgian 2\n",
      "Lager - Black 2\n",
      "Witbier 2\n",
      "Pilsner - Czech 1\n",
      "Lager - American Amber / Red 1\n",
      "IPA - Session / India Session Ale 1\n",
      "Kellerbier / Zwickelbier 1\n",
      "IPA - Belgian 1\n",
      "Lager -  Vienna / Amber 1\n",
      "Barleywine - American 1\n",
      "Golden Ale 1\n",
      "Barleywine - English 1\n",
      "Flanders Red Ale 1\n",
      "IPA - Black / Cascadian Dark Ale 1\n",
      "Stout - Oyster 1\n",
      "Red Ale - Irish 1\n",
      "Lager - Dortmunder / Export 1\n",
      "Strong Ale - American 1\n",
      "Doppelbock  1\n",
      "Kristallweizen  1\n",
      "Belgian Tripel 1\n",
      "Fruit Beer 1\n",
      "Red Ale - Imperial / Double 1\n",
      "Herbed / Spiced Beer 1\n",
      "Radler 1\n",
      "Gose 1\n",
      "Schwarzbier 1\n",
      "IPA - English 1\n",
      "Blonde Ale 1\n"
     ]
    }
   ],
   "source": [
    "# Check style counts\n",
    "styleCounts = dict()\n",
    "for b in uniqueBeers:\n",
    "    if b['beer']['beer_style'] not in styleCounts:\n",
    "        styleCounts[b['beer']['beer_style']] = 0\n",
    "    styleCounts[b['beer']['beer_style']] += 1\n",
    "\n",
    "for s in sorted(styleCounts, key=styleCounts.get, reverse=True):\n",
    "    print s, styleCounts[s]"
   ]
  },
  {
   "cell_type": "code",
   "execution_count": 6,
   "metadata": {
    "collapsed": false
   },
   "outputs": [
    {
     "name": "stdout",
     "output_type": "stream",
     "text": [
      "New Holland Brewing Company 13\n",
      "Boston Beer Company (Samuel Adams) 8\n",
      "Bell's Brewery 8\n",
      "Evil Czech Brewery 8\n",
      "Goshen Brewing Company 6\n",
      "Crooked Ewe Brewery 5\n",
      "Upland Brewing Company 5\n",
      "Anadolu Efes 4\n",
      "Founders Brewing Co. 4\n",
      "Lagunitas Brewing Company 3\n",
      "Brauerei Beck 3\n",
      "Goose Island Beer Co. 3\n",
      "Stone Brewing 3\n",
      "Kulmbacher Brauerei 2\n",
      "Flat12 Bierwerks 2\n",
      "Jacob Leinenkugel Brewing Company 2\n",
      "Greenbush Brewing Company 2\n",
      "Kona Brewing Company 2\n",
      "Two Brothers Brewing Company 2\n",
      "Erdinger Weissbräu 2\n",
      "Charles Wells Brewery 2\n",
      "Round Barn Brewery 2\n",
      "Great Lakes Brewing Company 1\n",
      "Adnams 1\n",
      "Guinness 1\n",
      "Binding Brauerei 1\n",
      "Great Divide Brewing Company 1\n",
      "Velké Březno 1\n",
      "Tyskie Browary Książęce (Kompania Piwowarska) 1\n",
      "Sierra Nevada Brewing Co. 1\n",
      "Dogfish Head Craft Brewery 1\n",
      "North Coast Brewing Company 1\n",
      "Brauerei Aying  1\n",
      "Carlsberg Group 1\n",
      "Brouwerij Rodenbach 1\n",
      "Saugatuck Brewing Company 1\n",
      "Arcadia Brewing Company (Arcadia Ales) 1\n",
      "Samuel Smith's Old Brewery 1\n",
      "Resignation Brewery 1\n",
      "Cölner Hofbräu Früh 1\n",
      "Schlafly - The Saint Louis Brewery 1\n",
      "Abita Brewing Company 1\n",
      "Goodwood Brewing 1\n",
      "Deschutes Brewery 1\n",
      "Brasserie Dieu du Ciel! 1\n",
      "Tyranena Brewing 1\n",
      "Uerige Obergärige Hausbrauerei 1\n",
      "Quaff ON! Brewing Company 1\n",
      "Dark Horse Brewing Co. 1\n",
      "Left Hand Brewing Company 1\n",
      "Breckenridge Brewery 1\n"
     ]
    }
   ],
   "source": [
    "# Most preferred brewery\n",
    "breweryCount = dict()\n",
    "for b in uniqueBeers:\n",
    "    if b['brewery']['brewery_name'] not in breweryCount:\n",
    "        breweryCount[b['brewery']['brewery_name']] = 0\n",
    "    breweryCount[b['brewery']['brewery_name']] += 1\n",
    "\n",
    "for s in sorted(breweryCount, key=breweryCount.get, reverse=True):\n",
    "    print s, breweryCount[s]"
   ]
  },
  {
   "cell_type": "code",
   "execution_count": 9,
   "metadata": {
    "collapsed": false
   },
   "outputs": [
    {
     "name": "stdout",
     "output_type": "stream",
     "text": [
      "Avg. IBU: 30.6\n",
      "Avg. ABV: 6.49541666667\n"
     ]
    },
    {
     "data": {
      "image/png": "[encoded data removed]",
      "text/plain": [
       "<matplotlib.figure.Figure at 0x106abc750>"
      ]
     },
     "metadata": {},
     "output_type": "display_data"
    }
   ],
   "source": [
    "ibuList, abvList = list(), list()\n",
    "for b in uniqueBeers:\n",
    "    ibuList.append(b['beer']['beer_ibu'])\n",
    "    abvList.append(b['beer']['beer_abv'])\n",
    "    \n",
    "print 'Avg. IBU: {}'.format(np.mean(ibuList))\n",
    "print 'Avg. ABV: {}'.format(np.mean(abvList))\n",
    "\n",
    "fig, axarr = plt.subplots(1, 2, figsize=(7,3))\n",
    "axarr[0].hist(ibuList, bins=20, alpha=0.5, linewidth=0)\n",
    "axarr[0].set_xlabel('IBU (International Bitterness Units)', fontsize=12)\n",
    "axarr[0].tick_params(axis='both', which='major', labelsize=12)\n",
    "\n",
    "axarr[1].hist(abvList, bins=20, alpha=0.5, linewidth=0)\n",
    "axarr[1].set_xlabel('ABV (Alcohol By Volume)', fontsize=12)\n",
    "axarr[1].tick_params(axis='both', which='major', labelsize=12)\n",
    "plt.tight_layout()"
   ]
  },
  {
   "cell_type": "code",
   "execution_count": 10,
   "metadata": {
    "collapsed": false
   },
   "outputs": [
    {
     "name": "stdout",
     "output_type": "stream",
     "text": [
      "0.0 4.75\n"
     ]
    },
    {
     "data": {
      "image/png": "[encoded data removed]",
      "text/plain": [
       "<matplotlib.figure.Figure at 0x106ae6590>"
      ]
     },
     "metadata": {},
     "output_type": "display_data"
    }
   ],
   "source": [
    "# Scatter plot of avg. ratings vs. my ratings\n",
    "scatterData = list()\n",
    "for b in uniqueBeers:\n",
    "    scatterData.append((b['beer']['rating_score'], b['rating_score']))\n",
    "scatterData = np.array(scatterData)    \n",
    "\n",
    "fig = plt.figure(figsize=(4,4))\n",
    "plt.plot([0,5],[0,5],'r--', linewidth=2)\n",
    "plt.scatter(scatterData[:,0], scatterData[:,1], alpha=0.5)\n",
    "\n",
    "minV, maxV = np.min(scatterData), np.max(scatterData)\n",
    "print minV, maxV\n",
    "plt.xlim((minV-0.2, maxV+0.2))\n",
    "plt.ylim((minV-0.2, maxV+0.2))\n",
    "plt.xlabel('Avg. rating', fontsize=14)\n",
    "plt.ylabel('My rating', fontsize=14)\n",
    "plt.tick_params(axis='both', which='major', labelsize=12)"
   ]
  },
  {
   "cell_type": "code",
   "execution_count": null,
   "metadata": {
    "collapsed": true
   },
   "outputs": [],
   "source": []
  }
 ],
 "metadata": {
  "kernelspec": {
   "display_name": "Python 2",
   "language": "python",
   "name": "python2"
  },
  "language_info": {
   "codemirror_mode": {
    "name": "ipython",
    "version": 2
   },
   "file_extension": ".py",
   "mimetype": "text/x-python",
   "name": "python",
   "nbconvert_exporter": "python",
   "pygments_lexer": "ipython2",
   "version": "2.7.11"
  }
 },
 "nbformat": 4,
 "nbformat_minor": 0
}
