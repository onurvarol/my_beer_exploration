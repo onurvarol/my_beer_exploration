{
 "cells": [
  {
   "cell_type": "code",
   "execution_count": 1,
   "metadata": {},
   "outputs": [
    {
     "name": "stdout",
     "output_type": "stream",
     "text": [
      "Populating the interactive namespace from numpy and matplotlib\n"
     ]
    }
   ],
   "source": [
    "%pylab inline\n",
    "import os, sys, glob\n",
    "import time\n",
    "import numpy as np\n",
    "import pickle\n",
    "import json\n",
    "\n",
    "import matplotlib as mpl\n",
    "import matplotlib.pyplot as plt"
   ]
  },
  {
   "cell_type": "code",
   "execution_count": 2,
   "metadata": {
    "collapsed": true
   },
   "outputs": [],
   "source": [
    "# Load credential data \n",
    "from untappd_credentials import *\n",
    "\n",
    "USER_NAME = 'ovarol'\n",
    "#CLIENT_ID = \"XXXXXXXXXXXXXX\"\n",
    "#CLIENT_SECRET = \"XXXXXXXXXXXXXX\"\n",
    "#print 'Id:\\t{}\\nSecret:\\t{}\\n'.format(CLIENT_ID, CLIENT_SECRET)"
   ]
  },
  {
   "cell_type": "code",
   "execution_count": 3,
   "metadata": {
    "collapsed": true
   },
   "outputs": [],
   "source": [
    "# Using API from https://github.com/marshall91/pythonUntappd\n",
    "import untappd_api as pythonUntappd\n",
    "\n",
    "api = pythonUntappd.api(CLIENT_ID,CLIENT_SECRET)\n",
    "userData = api.user_info(USER_NAME)['response']\n",
    "#print json.dumps(userData, indent=4)"
   ]
  },
  {
   "cell_type": "code",
   "execution_count": 4,
   "metadata": {},
   "outputs": [
    {
     "name": "stdout",
     "output_type": "stream",
     "text": [
      "Unique beers collected: 25\n",
      "Unique beers collected: 50\n",
      "Unique beers collected: 75\n",
      "Unique beers collected: 100\n",
      "Unique beers collected: 125\n",
      "Unique beers collected: 150\n",
      "Unique beers collected: 175\n",
      "Unique beers collected: 200\n",
      "Unique beers collected: 225\n",
      "Unique beers collected: 250\n",
      "Unique beers collected: 275\n",
      "Unique beers collected: 300\n",
      "Unique beers collected: 325\n",
      "Unique beers collected: 350\n",
      "Unique beers collected: 375\n",
      "Unique beers collected: 396\n",
      "Unique beers collected: 396\n"
     ]
    }
   ],
   "source": [
    "uniqueBeers = list()\n",
    "userData = api.user_info(USER_NAME)['response']\n",
    "\n",
    "count, keepCollect = 0, True\n",
    "scanCount = 0\n",
    "while keepCollect:\n",
    "    resp = api.user_distinct_beers(USER_NAME, offset=count)['response']\n",
    "    count += resp['beers']['count']\n",
    "    uniqueBeers.extend(resp['beers']['items'])\n",
    "    print('Unique beers collected: {}'.format(len(uniqueBeers)))\n",
    "    scanCount += 1\n",
    "    if resp['beers']['count'] != 0:\n",
    "        time.sleep(1)\n",
    "    else:\n",
    "        break\n",
    "        \n",
    "with open('docs/data/{}_untappd_data.json'.format(USER_NAME),'w') as fl:\n",
    "    fl.write(json.dumps({'user_data':userData, 'beer_data':uniqueBeers}))"
   ]
  },
  {
   "cell_type": "code",
   "execution_count": 5,
   "metadata": {},
   "outputs": [
    {
     "name": "stdout",
     "output_type": "stream",
     "text": [
      "{\n",
      "    \"beer\": {\n",
      "        \"beer_abv\": 4.2,\n",
      "        \"beer_description\": \"Swirling clouds tumble as the storm begins to calm. Settle. Breathe in the moment, then break through the smooth, light head to the bittersweet reward.\\r\\n\\r\\nUnmistakeably GUINNESS, from the first velvet sip to the last, lingering drop. And every deep-dark satisfying mouthful in between.\\r\\n\\r\\nPure beauty. Pure GUINNESS.\\r\\n\\r\\nGuinness Draught is sold in kegs, widget cans, and bottles. The ABV varies from 4.1 to 4.3%.\\r\\n\\r\\nGuinness Extra Cold is the exact same beer only served through a super cooler at 3.5 \\u00b0C\",\n",
      "        \"beer_ibu\": 45,\n",
      "        \"beer_label\": \"https://untappd.akamaized.net/site/beer_logos/beer-_4473_8122008947804818c90640a06d83.jpeg\",\n",
      "        \"beer_name\": \"Guinness Draught\",\n",
      "        \"beer_slug\": \"guinness-guinness-draught\",\n",
      "        \"beer_style\": \"Stout - Irish Dry\",\n",
      "        \"bid\": 4473,\n",
      "        \"created_at\": \"Sat, 21 Aug 2010 09:26:35 +0000\",\n",
      "        \"rating_count\": 493582,\n",
      "        \"rating_score\": 3.8044\n",
      "    },\n",
      "    \"brewery\": {\n",
      "        \"brewery_active\": 1,\n",
      "        \"brewery_id\": 49,\n",
      "        \"brewery_label\": \"https://untappd.akamaized.net/site/brewery_logos/brewery-49_a03fc.jpeg\",\n",
      "        \"brewery_name\": \"Guinness\",\n",
      "        \"brewery_slug\": \"guinness\",\n",
      "        \"contact\": {\n",
      "            \"facebook\": \"https://www.facebook.com/guinness\",\n",
      "            \"instagram\": \"guinness\",\n",
      "            \"twitter\": \"GuinnessIreland\",\n",
      "            \"url\": \"http://www.guinness.com\"\n",
      "        },\n",
      "        \"country_name\": \"Ireland\",\n",
      "        \"location\": {\n",
      "            \"brewery_city\": \"St. James's Gate\",\n",
      "            \"brewery_state\": \"Dublin\",\n",
      "            \"lat\": 53.3437,\n",
      "            \"lng\": -6.28879\n",
      "        }\n",
      "    },\n",
      "    \"count\": 2,\n",
      "    \"first_checkin_id\": 258368559,\n",
      "    \"first_created_at\": \"Wed, 23 Dec 2015 12:12:58 -0500\",\n",
      "    \"first_had\": \"Wed, 23 Dec 2015 12:12:58 -0500\",\n",
      "    \"rating_score\": 4,\n",
      "    \"recent_checkin_id\": 354587643,\n",
      "    \"recent_created_at\": \"Mon, 29 Aug 2016 21:37:33 -0500\",\n",
      "    \"recent_created_at_timezone\": \"-5\"\n",
      "}\n"
     ]
    }
   ],
   "source": [
    "#print json.dumps(uniqueBeers, indent=4, sort_keys=True)\n",
    "print(json.dumps(uniqueBeers[-1], indent=4, sort_keys=True))"
   ]
  },
  {
   "cell_type": "code",
   "execution_count": 6,
   "metadata": {},
   "outputs": [
    {
     "name": "stdout",
     "output_type": "stream",
     "text": [
      "Stout  118\n",
      "Porter  40\n",
      "IPA  37\n",
      "Lager  21\n",
      "Brown Ale  20\n",
      "Pale Ale  14\n",
      "Red Ale  11\n",
      "Barleywine  7\n",
      "Pumpkin  7\n",
      "Scotch Ale  7\n",
      "Belgian Strong Dark Ale 6\n",
      "Sour  6\n",
      "Belgian Tripel 5\n",
      "Pilsner  5\n",
      "Hefeweizen 5\n",
      "Pale Wheat Ale  5\n",
      "Doppelbock 4\n",
      "Weizenbock 4\n",
      "Saison  4\n",
      "Belgian Quad 4\n",
      "Cream Ale 4\n",
      "Strong Ale  4\n",
      "Fruit Beer 4\n",
      "Altbier 3\n",
      "Belgian Strong Golden Ale 3\n",
      "Shandy  3\n",
      "Smoked Beer 3\n",
      "Dark Ale 3\n",
      "Dunkelweizen 3\n",
      "Märzen 3\n",
      "Kölsch 3\n",
      "Rye Beer 3\n",
      "Blonde Ale  2\n",
      "Belgian Dubbel 2\n",
      "Blonde Ale 2\n",
      "Scottish Ale 2\n",
      "Kristallweizen 2\n",
      "English Mild Ale 2\n",
      "Kellerbier  2\n",
      "Spiced  2\n",
      "Scottish Export Ale 1\n",
      "Specialty Grain 1\n",
      "Old Ale 1\n",
      "Maibock  1\n",
      "Roggenbier 1\n",
      "English Bitter 1\n",
      "Gruit  1\n",
      "Gluten 1\n",
      "Golden Ale 1\n",
      "Schwarzbier 1\n",
      "Witbier 1\n"
     ]
    }
   ],
   "source": [
    "# Check style counts\n",
    "styleCounts = dict()\n",
    "styleCountSimple = dict()\n",
    "for b in uniqueBeers:\n",
    "    if b['beer']['beer_style'] not in styleCounts:\n",
    "        styleCounts[b['beer']['beer_style']] = 0\n",
    "    styleCounts[b['beer']['beer_style']] += 1\n",
    "\n",
    "    sstyle = b['beer']['beer_style'].split('-')[0].split('/')[0]\n",
    "    if sstyle not in styleCountSimple:\n",
    "        styleCountSimple[sstyle] = 0\n",
    "    styleCountSimple[sstyle] += 1\n",
    "    \n",
    "for s in sorted(styleCountSimple, key=styleCountSimple.get, reverse=True):\n",
    "    print(s, styleCountSimple[s])"
   ]
  },
  {
   "cell_type": "code",
   "execution_count": 7,
   "metadata": {},
   "outputs": [
    {
     "name": "stdout",
     "output_type": "stream",
     "text": [
      "New Holland Brewing Company 18\n",
      "Boston Beer Company 15\n",
      "South Bend Brew Werks 15\n",
      "Bell's Brewery 13\n",
      "Upland Brewing Company 11\n",
      "Bare Hands Brewery 8\n",
      "Evil Czech Brewery 8\n",
      "Stone Brewing 7\n",
      "Great Lakes Brewing Company 7\n",
      "Samuel Smith's Old Brewery 6\n",
      "Evil Twin Brewing 6\n",
      "Left Hand Brewing Company 6\n",
      "Silver Harbor Brewing 6\n",
      "Founders Brewing Co. 6\n",
      "Market Garden Brewery 6\n",
      "Goshen Brewing Company 6\n",
      "Dogfish Head Craft Brewery 5\n",
      "Alltech Lexington Brewing & Distilling Co. 5\n",
      "North Pier Brewing Company 5\n",
      "Gordon Biersch Brewery Restaurant 5\n",
      "Crooked Ewe Brewery 5\n",
      "Boulevard Brewing Co. 4\n",
      "Jackalope Brewing Co. 4\n",
      "The Tap Brewery 4\n",
      "Anadolu Efes 4\n",
      "Unibroue 3\n",
      "Jaws Brewery 3\n",
      "Short's Brewing Company 3\n",
      "Ballast Point Brewing Company 3\n",
      "Southern Tier Brewing Company 3\n",
      "Sierra Nevada Brewing Co. 3\n",
      "Forest & Main Brewing Company 3\n",
      "Greenbush Brewing Company 3\n",
      "Saugatuck Brewing Company 3\n",
      "Quaff ON! Brewing Company 3\n",
      "Rogue Ales & Spirits 3\n",
      "Breckenridge Brewery 3\n",
      "Charles Wells Brewery (Marston's) 3\n",
      "Lagunitas Brewing Company 3\n",
      "Goose Island Beer Co. 3\n",
      "Brauerei Beck 3\n",
      "Barrel House Z 2\n",
      "Smuttynose Brewing Co. 2\n",
      "Allagash Brewing Company 2\n",
      "Weyerbacher Brewing Company 2\n",
      "Triumph Brewing Company 2\n",
      "Tröegs Independent Brewing 2\n",
      "Victory Brewing Company 2\n",
      "North Coast Brewing Company 2\n",
      "Epic Brewing Co. (Utah, Colorado) 2\n",
      "Oskar Blues Brewery 2\n",
      "Guinness 2\n",
      "Traveler Beer Co. 2\n",
      "Brasserie Dieu du Ciel! 2\n",
      "Tallgrass Brewing Company 2\n",
      "Great Divide Brewing Company 2\n",
      "Brooklyn Brewery 2\n",
      "Flying Dog Brewery 2\n",
      "Yards Brewing Co. 2\n",
      "Gordon Biersch Brewing Company 2\n",
      "Yazoo Brewing Company 2\n",
      "Fountain Square Brewing Company 2\n",
      "Arrogant Brewing 2\n",
      "Round Barn Brewery 2\n",
      "Kona Brewing Company 2\n",
      "Two Brothers Brewing Company 2\n",
      "Flat12 Bierwerks 2\n",
      "Jacob Leinenkugel Brewing Company 2\n",
      "Erdinger Weissbräu 2\n",
      "Kulmbacher Brauerei 2\n",
      "Long Trail Brewing Company 1\n",
      "Somerville Brewing Company (Slumbrew) 1\n",
      "Otter Creek Brewing 1\n",
      "The Shed Brewery 1\n",
      "Asahi Breweries 1\n",
      "Spencer Brewery 1\n",
      "Barrier Brewing Company 1\n",
      "Brouwerij Bosteels 1\n",
      "Greenport Harbor Brewing Company 1\n",
      "Interboro Spirits & Ales 1\n",
      "The Bronx Brewery  1\n",
      "Brouwerij Verhaeghe 1\n",
      "Birra Moretti 1\n",
      "Neshaminy Creek Brewing Company  1\n",
      "Demented Brewing Company 1\n",
      "Fegley's Brew Works 1\n",
      "Castle Island Brewing Company 1\n",
      "Anderson Valley Brewing Company 1\n",
      "Two Roads Brewing Company 1\n",
      "Cisco Brewers Inc. 1\n",
      "Duvel Moortgat 1\n",
      "Atlantic Brewing Company 1\n",
      "Innis & Gunn 1\n",
      "Desnoes & Geddes 1\n",
      "Heineken Brewery Ireland 1\n",
      "Notch Brewing 1\n",
      "Berkshire Brewing Company (B.B.C.) 1\n",
      "Portico Brewing Company 1\n",
      "Brouwerij De Brabandere (Bavik) 1\n",
      "Foolproof Brewing Company 1\n",
      "Kiuchi Brewery 1\n",
      "Baxter Brewing Co. 1\n",
      "Abbaye de Leffe 1\n",
      "Night Shift Brewing 1\n",
      "Base Camp Brewing Company 1\n",
      "Firestone Walker Brewing Company 1\n",
      "Kirin Brewery Company 1\n",
      "Sun King Brewing Company 1\n",
      "United Breweries (India) 1\n",
      "4 Hands Brewing Co. 1\n",
      "James Page Brewing 1\n",
      "21st Amendment Brewery 1\n",
      "Baltika Breweries (Балтика) 1\n",
      "Traquair House Brewery 1\n",
      "Mad Anthony Brewing Company 1\n",
      "St. Peter’s Brewery Co. 1\n",
      "Wild Onion Brewery 1\n",
      "Brouwerij De Molen 1\n",
      "Buxton Brewery 1\n",
      "Ale Asylum 1\n",
      "Heineken 1\n",
      "Anheuser-Busch 1\n",
      "Mayflower Brewing Company 1\n",
      "Cambridge Brewing Company 1\n",
      "Aeronaut Brewing Company 1\n",
      "Heavy Seas Beer 1\n",
      "Bayerische Staatsbrauerei Weihenstephan 1\n",
      "Lost Forty Brewing 1\n",
      "New Belgium Brewing Company 1\n",
      "Central Waters Brewing Company 1\n",
      "Blue Moon Brewing Company 1\n",
      "DuClaw Brewing Company 1\n",
      "Coney Island Brewery 1\n",
      "Coors Brewing Company 1\n",
      "Thirsty Dog Brewing Company 1\n",
      "Magic Hat Brewing Company 1\n",
      "Hacker-Pschorr 1\n",
      "Fish Brewing Company 1\n",
      "Brouwerij Huyghe 1\n",
      "Atwater Brewery 1\n",
      "Ozark Beer Company 1\n",
      "Orkney Brewery 1\n",
      "Anchor Brewing Company 1\n",
      "Lost Coast Brewery 1\n",
      "Triton Brewing 1\n",
      "Boulder Beer Company 1\n",
      "Rhinelander Brewing Company 1\n",
      "Brewery Ommegang 1\n",
      "Georgetown Trading Co 1\n",
      "Small Town Brewery 1\n",
      "Fat Head's Brewery 1\n",
      "Mother's Brewing Company 1\n",
      "3 Floyds Brewing Company 1\n",
      "Belhaven Brewery 1\n",
      "Yuengling Brewery 1\n",
      "Boddington's Brewery 1\n",
      "Einstök Ölgerð 1\n",
      "Omission Beer 1\n",
      "Carlsberg Group 1\n",
      "Arcadia Brewing Company 1\n",
      "Resignation Brewery 1\n",
      "Deschutes Brewery 1\n",
      "Goodwood Brewing 1\n",
      "Radeberger Gruppe 1\n",
      "Tyskie Browary Książęce (Kompania Piwowarska) 1\n",
      "Velké Březno 1\n",
      "Cölner Hofbräu Früh 1\n",
      "Tyranena Brewing 1\n",
      "Dark Horse Brewing Co. 1\n",
      "Ayinger Privatbrauerei 1\n",
      "Brouwerij Rodenbach 1\n",
      "Abita Brewing Company 1\n",
      "Uerige Obergärige Hausbrauerei 1\n",
      "Adnams 1\n",
      "Schlafly - The Saint Louis Brewery 1\n"
     ]
    }
   ],
   "source": [
    "# Most preferred brewery\n",
    "breweryCount = dict()\n",
    "for b in uniqueBeers:\n",
    "    if b['brewery']['brewery_name'] not in breweryCount:\n",
    "        breweryCount[b['brewery']['brewery_name']] = 0\n",
    "    breweryCount[b['brewery']['brewery_name']] += 1\n",
    "\n",
    "for s in sorted(breweryCount, key=breweryCount.get, reverse=True):\n",
    "    print(s, breweryCount[s])"
   ]
  },
  {
   "cell_type": "code",
   "execution_count": 8,
   "metadata": {},
   "outputs": [
    {
     "name": "stdout",
     "output_type": "stream",
     "text": [
      "Southern Tier Brewing Company Crème Brûlée 4.75\n",
      "Bell's Brewery Black Note Stout (2016) 4.75\n",
      "Dogfish Head Craft Brewery Raison D'Extra 4.75\n",
      "Alltech Lexington Brewing & Distilling Co. Kentucky Bourbon Barrel Barleywine 4.75\n",
      "New Holland Brewing Company Pure Brews Porter 4.75\n",
      "New Holland Brewing Company Dragon's Milk Reserve: With Basil 4.75\n",
      "New Holland Brewing Company Dragon's Milk Reserve: Raspberry Lemon 4.75\n",
      "Crooked Ewe Brewery Bourbon Barrel Aged Wendigo 4.75\n",
      "Adnams Tally-Ho Reserve 2012 4.75\n",
      "Upland Brewing Company Teddy Bear Kisses 4.75\n",
      "New Holland Brewing Company Dragon's Milk 4.75\n",
      "New Holland Brewing Company Dragon's Milk Reserve: Salted Caramel 4.5\n",
      "Somerville Brewing Company (Slumbrew) Trekker Trippel 4.5\n",
      "Barrel House Z Adeline Stout 4.5\n",
      "The Bronx Brewery  Orange Pistachio Porter 4.5\n",
      "Weyerbacher Brewing Company Blithering Idiot 4.5\n",
      "Neshaminy Creek Brewing Company  Punkless Dunkel 4.5\n",
      "Demented Brewing Company Out of Your Gourd 4.5\n",
      "Barrel House Z Adeline 4.5\n",
      "Victory Brewing Company Golden Monkey 4.5\n",
      "North Coast Brewing Company Brother Thelonious 4.5\n",
      "Innis & Gunn Rum Finish / Rum Cask / Rum Aged 4.5\n",
      "Desnoes & Geddes Dragon Stout 4.5\n",
      "Guinness Guinness Foreign Extra Stout 4.5\n",
      "Jaws Brewery Somnambula 4.5\n",
      "Foolproof Brewing Company Revery 4.5\n",
      "Base Camp Brewing Company S'more Stout 4.5\n",
      "South Bend Brew Werks BQ4 Belgian Quad 4.5\n",
      "Silver Harbor Brewing Cookie Monsta 4.5\n",
      "North Pier Brewing Company Drake's Drum 4.5\n"
     ]
    }
   ],
   "source": [
    "for b in sorted(uniqueBeers, key=lambda x: x['rating_score'], reverse=True)[:30]:\n",
    "    print(b['brewery']['brewery_name'], b['beer']['beer_name'], b['rating_score'])"
   ]
  },
  {
   "cell_type": "code",
   "execution_count": 9,
   "metadata": {},
   "outputs": [
    {
     "name": "stdout",
     "output_type": "stream",
     "text": [
      "Avg. IBU: 29.174242424242426\n",
      "Avg. ABV: 6.936717171717172\n"
     ]
    },
    {
     "data": {
      "image/png": "[encoded data removed]",
      "text/plain": [
       "<matplotlib.figure.Figure at 0x10ab79a20>"
      ]
     },
     "metadata": {},
     "output_type": "display_data"
    }
   ],
   "source": [
    "ibuList, abvList = list(), list()\n",
    "for b in uniqueBeers:\n",
    "    ibuList.append(b['beer']['beer_ibu'])\n",
    "    abvList.append(b['beer']['beer_abv'])\n",
    "    \n",
    "print('Avg. IBU: {}'.format(np.mean(ibuList)))\n",
    "print('Avg. ABV: {}'.format(np.mean(abvList)))\n",
    "\n",
    "fig, axarr = plt.subplots(1, 2, figsize=(7,3))\n",
    "axarr[0].hist(ibuList, bins=20, alpha=0.5, linewidth=0)\n",
    "axarr[0].set_xlabel('IBU (International Bitterness Units)', fontsize=12)\n",
    "axarr[0].tick_params(axis='both', which='major', labelsize=12)\n",
    "\n",
    "axarr[1].hist(abvList, bins=20, alpha=0.5, linewidth=0)\n",
    "axarr[1].set_xlabel('ABV (Alcohol By Volume)', fontsize=12)\n",
    "axarr[1].tick_params(axis='both', which='major', labelsize=12)\n",
    "plt.tight_layout()\n"
   ]
  },
  {
   "cell_type": "code",
   "execution_count": 10,
   "metadata": {},
   "outputs": [
    {
     "name": "stdout",
     "output_type": "stream",
     "text": [
      "(396, 2)\n"
     ]
    },
    {
     "data": {
      "image/png": "[encoded data removed]",
      "text/plain": [
       "<matplotlib.figure.Figure at 0x10ab46a58>"
      ]
     },
     "metadata": {},
     "output_type": "display_data"
    }
   ],
   "source": [
    "# Beer ABV vs IBU\n",
    "beerMeasures = list()\n",
    "for b in uniqueBeers:\n",
    "    beerMeasures.append((b['beer']['beer_abv'],b['beer']['beer_ibu']))\n",
    "beerMeasures = np.array(beerMeasures)\n",
    "print(beerMeasures.shape)\n",
    "\n",
    "fig = plt.figure(figsize=(4,4))\n",
    "plt.scatter(beerMeasures[:,0], beerMeasures[:,1], alpha=0.5)\n",
    "plt.xlim(xmin=0)\n",
    "plt.ylim(ymin=0)\n",
    "plt.xlabel('ABV (Alcohol By Volume)', fontsize=12)\n",
    "plt.ylabel('IBU (International Bitterness Units)', fontsize=12)\n",
    "plt.tick_params(axis='both', which='major', labelsize=14)"
   ]
  },
  {
   "cell_type": "code",
   "execution_count": 11,
   "metadata": {},
   "outputs": [
    {
     "name": "stdout",
     "output_type": "stream",
     "text": [
      "2.0 4.75\n"
     ]
    },
    {
     "data": {
      "image/png": "[encoded data removed]",
      "text/plain": [
       "<matplotlib.figure.Figure at 0x10b1f14e0>"
      ]
     },
     "metadata": {},
     "output_type": "display_data"
    }
   ],
   "source": [
    "# Scatter plot of avg. ratings vs. my ratings\n",
    "scatterData = list()\n",
    "for b in uniqueBeers:\n",
    "    if b['beer']['rating_score'] == 0:\n",
    "        continue\n",
    "    scatterData.append((b['beer']['rating_score'], b['rating_score']))\n",
    "scatterData = np.array(scatterData)    \n",
    "\n",
    "fig = plt.figure(figsize=(4,4))\n",
    "plt.plot([0,5],[0,5],'r--', linewidth=2)\n",
    "plt.scatter(scatterData[:,0], scatterData[:,1], alpha=0.5)\n",
    "\n",
    "minV, maxV = np.min(scatterData), np.max(scatterData)\n",
    "print(minV, maxV)\n",
    "plt.xlim((minV-0.2, maxV+0.2))\n",
    "plt.ylim((minV-0.2, maxV+0.2))\n",
    "plt.xlabel('Avg. rating', fontsize=14)\n",
    "plt.ylabel('My rating', fontsize=14)\n",
    "plt.tick_params(axis='both', which='major', labelsize=12)"
   ]
  },
  {
   "cell_type": "code",
   "execution_count": 12,
   "metadata": {},
   "outputs": [
    {
     "name": "stdout",
     "output_type": "stream",
     "text": [
      "(392, 3)\n"
     ]
    },
    {
     "data": {
      "image/png": "[encoded data removed]",
      "text/plain": [
       "<matplotlib.figure.Figure at 0x10b350c18>"
      ]
     },
     "metadata": {},
     "output_type": "display_data"
    }
   ],
   "source": [
    "# What kind of beers I like more than avg. people\n",
    "scatterData = list()\n",
    "for b in uniqueBeers:\n",
    "    if b['beer']['rating_score'] == 0:\n",
    "        continue\n",
    "    scatterData.append((b['rating_score'] - b['beer']['rating_score'], \n",
    "                        b['beer']['beer_abv'],\n",
    "                        b['beer']['beer_ibu']))\n",
    "scatterData = np.array(scatterData)    \n",
    "print(scatterData.shape)\n",
    "\n",
    "fig, axarr = plt.subplots(1, 2, figsize=(7,3), sharey=True)\n",
    "axarr[0].scatter(scatterData[:,2], scatterData[:,0], alpha=0.5)\n",
    "axarr[0].axhline(y=0, c='k', linewidth=2, linestyle='--')\n",
    "fit = np.polyfit(scatterData[:,2], scatterData[:,0], 1)\n",
    "fit_fn = np.poly1d(fit) \n",
    "axarr[0].plot(scatterData[:,2], fit_fn(scatterData[:,2]), 'r--', linewidth=2)\n",
    "axarr[0].set_xlim(xmin=-5, xmax=105)\n",
    "axarr[0].set_xlabel('IBU (International Bitterness Units)', fontsize=12)\n",
    "axarr[0].set_ylabel('Rating difference', fontsize=12)\n",
    "axarr[0].tick_params(axis='both', which='major', labelsize=12)\n",
    "\n",
    "axarr[1].scatter(scatterData[:,1], scatterData[:,0], alpha=0.5)\n",
    "axarr[1].axhline(y=0, c='k', linewidth=2, linestyle='--')\n",
    "fit = np.polyfit(scatterData[:,1], scatterData[:,0], 1)\n",
    "fit_fn = np.poly1d(fit) \n",
    "axarr[1].plot(scatterData[:,1], fit_fn(scatterData[:,1]), 'r--', linewidth=2)\n",
    "axarr[1].set_xlim(xmin=-1, xmax=max(scatterData[:,1])+1)\n",
    "axarr[1].set_xlabel('ABV (Alcohol By Volume)', fontsize=12)\n",
    "axarr[1].tick_params(axis='both', which='major', labelsize=12)\n",
    "plt.tight_layout()\n"
   ]
  },
  {
   "cell_type": "code",
   "execution_count": 13,
   "metadata": {},
   "outputs": [
    {
     "data": {
      "image/png": "[encoded data removed]",
      "text/plain": [
       "<matplotlib.figure.Figure at 0x10ab8a320>"
      ]
     },
     "metadata": {},
     "output_type": "display_data"
    }
   ],
   "source": [
    "# Cumulative beer discoveries\n",
    "dTimes = list()\n",
    "for b in uniqueBeers:\n",
    "    dTimes.append(datetime.datetime.strptime(b['first_created_at'].split(' -')[0],\n",
    "                                             '%a, %d %b %Y %H:%M:%S'))\n",
    "dTimes.sort()\n",
    "    \n",
    "fig = plt.figure(figsize=(7,3))\n",
    "plt.plot(dTimes, range(len(dTimes)), linewidth=2)\n",
    "plt.ylabel('Unique beer count', fontsize=14)\n",
    "plt.xticks(rotation=30)\n",
    "plt.tick_params(axis='both', which='major', labelsize=12)"
   ]
  },
  {
   "cell_type": "code",
   "execution_count": null,
   "metadata": {
    "collapsed": true
   },
   "outputs": [],
   "source": []
  }
 ],
 "metadata": {
  "kernelspec": {
   "display_name": "Python 3",
   "language": "python",
   "name": "python3"
  },
  "language_info": {
   "codemirror_mode": {
    "name": "ipython",
    "version": 3
   },
   "file_extension": ".py",
   "mimetype": "text/x-python",
   "name": "python",
   "nbconvert_exporter": "python",
   "pygments_lexer": "ipython3",
   "version": "3.6.1"
  }
 },
 "nbformat": 4,
 "nbformat_minor": 1
}
