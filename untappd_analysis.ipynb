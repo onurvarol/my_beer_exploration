{
 "cells": [
  {
   "cell_type": "code",
   "execution_count": 1,
   "metadata": {
    "collapsed": false
   },
   "outputs": [
    {
     "name": "stdout",
     "output_type": "stream",
     "text": [
      "Populating the interactive namespace from numpy and matplotlib\n"
     ]
    }
   ],
   "source": [
    "%pylab inline\n",
    "import os, sys, glob\n",
    "import time\n",
    "import numpy as np\n",
    "import pickle\n",
    "import json\n",
    "\n",
    "import matplotlib as mpl\n",
    "import matplotlib.pyplot as plt"
   ]
  },
  {
   "cell_type": "code",
   "execution_count": 2,
   "metadata": {
    "collapsed": false
   },
   "outputs": [],
   "source": [
    "# Load credential data \n",
    "from untappd_credentials import *\n",
    "\n",
    "USER_NAME = 'ovarol'\n",
    "#CLIENT_ID = \"XXXXXXXXXXXXXX\"\n",
    "#CLIENT_SECRET = \"XXXXXXXXXXXXXX\"\n",
    "#print 'Id:\\t{}\\nSecret:\\t{}\\n'.format(CLIENT_ID, CLIENT_SECRET)"
   ]
  },
  {
   "cell_type": "code",
   "execution_count": 3,
   "metadata": {
    "collapsed": false
   },
   "outputs": [],
   "source": [
    "# Using API from https://github.com/marshall91/pythonUntappd\n",
    "import untappd_api as pythonUntappd\n",
    "\n",
    "api = pythonUntappd.api(CLIENT_ID,CLIENT_SECRET)\n",
    "userData = api.user_info(USER_NAME)['response']\n",
    "#print json.dumps(userData, indent=4)"
   ]
  },
  {
   "cell_type": "code",
   "execution_count": 4,
   "metadata": {
    "collapsed": false
   },
   "outputs": [
    {
     "name": "stdout",
     "output_type": "stream",
     "text": [
      "Unique beers collected: 25\n",
      "Unique beers collected: 50\n",
      "Unique beers collected: 75\n",
      "Unique beers collected: 100\n",
      "Unique beers collected: 125\n",
      "Unique beers collected: 150\n",
      "Unique beers collected: 175\n",
      "Unique beers collected: 200\n",
      "Unique beers collected: 225\n",
      "Unique beers collected: 250\n",
      "Unique beers collected: 275\n",
      "Unique beers collected: 300\n",
      "Unique beers collected: 307\n",
      "Unique beers collected: 307\n"
     ]
    }
   ],
   "source": [
    "uniqueBeers = list()\n",
    "\n",
    "count, keepCollect = 0, True\n",
    "scanCount = 0\n",
    "while keepCollect:\n",
    "    resp = api.user_distinct_beers(USER_NAME, offset=count)['response']\n",
    "    count += resp['beers']['count']\n",
    "    uniqueBeers.extend(resp['beers']['items'])\n",
    "    print 'Unique beers collected: {}'.format(len(uniqueBeers))\n",
    "    scanCount += 1\n",
    "    if resp['beers']['count'] <> 0:\n",
    "        time.sleep(1)\n",
    "    else:\n",
    "        break"
   ]
  },
  {
   "cell_type": "code",
   "execution_count": 5,
   "metadata": {
    "collapsed": false
   },
   "outputs": [
    {
     "name": "stdout",
     "output_type": "stream",
     "text": [
      "{\n",
      "    \"beer\": {\n",
      "        \"auth_rating\": 0, \n",
      "        \"beer_abv\": 4.3, \n",
      "        \"beer_description\": \"Swirling clouds tumble as the storm begins to calm. Settle. Breathe in the moment, then break through the smooth, light head to the bittersweet reward.\\n\\nUnmistakeably GUINNESS, from the first velvet sip to the last, lingering drop. And every deep-dark satisfying mouthful in between.\\n\\nPure beauty. Pure GUINNESS.\\n\\nGuinness Draught is sold in kegs, widget cans, and bottles. The ABV varies from 4.1 to 4.3%.\\n\\nGuinness Extra Cold is the exact same beer only served through a super cooler at 3.5 \\u00b0C\", \n",
      "        \"beer_ibu\": 45, \n",
      "        \"beer_label\": \"https://untappd.akamaized.net/site/beer_logos/beer-_4473_8122008947804818c90640a06d83.jpeg\", \n",
      "        \"beer_name\": \"Guinness Draught\", \n",
      "        \"beer_slug\": \"guinness-guinness-draught\", \n",
      "        \"beer_style\": \"Stout - Irish Dry\", \n",
      "        \"bid\": 4473, \n",
      "        \"created_at\": \"Sat, 21 Aug 2010 09:26:35 +0000\", \n",
      "        \"rating_count\": 393580, \n",
      "        \"rating_score\": 3.816, \n",
      "        \"wish_list\": false\n",
      "    }, \n",
      "    \"brewery\": {\n",
      "        \"brewery_active\": 1, \n",
      "        \"brewery_id\": 49, \n",
      "        \"brewery_label\": \"https://untappd.akamaized.net/site/brewery_logos/brewery-49_a03fc.jpeg\", \n",
      "        \"brewery_name\": \"Guinness\", \n",
      "        \"brewery_slug\": \"guinness\", \n",
      "        \"contact\": {\n",
      "            \"facebook\": \"https://www.facebook.com/guinness\", \n",
      "            \"instagram\": \"guinness\", \n",
      "            \"twitter\": \"GuinnessIreland\", \n",
      "            \"url\": \"http://www.guinness.com\"\n",
      "        }, \n",
      "        \"country_name\": \"Ireland\", \n",
      "        \"location\": {\n",
      "            \"brewery_city\": \"Dublin 8\", \n",
      "            \"brewery_state\": \"\", \n",
      "            \"lat\": 53.3177, \n",
      "            \"lng\": -6.24094\n",
      "        }\n",
      "    }, \n",
      "    \"count\": 2, \n",
      "    \"first_checkin_id\": 258368559, \n",
      "    \"first_created_at\": \"Wed, 23 Dec 2015 12:12:58 -0500\", \n",
      "    \"first_had\": \"Wed, 23 Dec 2015 12:12:58 -0500\", \n",
      "    \"rating_score\": 4, \n",
      "    \"recent_checkin_id\": 354587643, \n",
      "    \"recent_created_at\": \"Mon, 29 Aug 2016 21:37:33 -0500\", \n",
      "    \"recent_created_at_timezone\": \"-5\"\n",
      "}\n"
     ]
    }
   ],
   "source": [
    "#print json.dumps(uniqueBeers, indent=4, sort_keys=True)\n",
    "print json.dumps(uniqueBeers[-1], indent=4, sort_keys=True)"
   ]
  },
  {
   "cell_type": "code",
   "execution_count": 5,
   "metadata": {
    "collapsed": false
   },
   "outputs": [
    {
     "name": "stdout",
     "output_type": "stream",
     "text": [
      "Stout - American Imperial / Double 16\n",
      "Stout - Oatmeal 15\n",
      "Stout - Milk / Sweet 15\n",
      "Porter - American 14\n",
      "IPA - Imperial / Double 14\n",
      "Stout - American 13\n",
      "IPA - American 12\n",
      "Stout - Other 10\n",
      "Brown Ale - American 10\n",
      "Stout - Russian Imperial 10\n",
      "Pale Ale - American 9\n",
      "Stout - Imperial / Double 9\n",
      "Porter - Other 7\n",
      "Scotch Ale / Wee Heavy 5\n",
      "Hefeweizen 5\n",
      "Lager - American Amber / Red 4\n",
      "Porter - English 4\n",
      "Cream Ale 4\n",
      "Dark Ale 4\n",
      "Barleywine - American 4\n",
      "Belgian Quad 4\n",
      "Strong Ale - American 4\n",
      "Lager - Pale 4\n",
      "Fruit Beer 4\n",
      "Stout - Irish Dry 4\n",
      "Pale Wheat Ale - American 4\n",
      "Brown Ale - Imperial / Double 4\n",
      "IPA - Black / Cascadian Dark Ale 3\n",
      "Spiced / Herbed Beer 3\n",
      "Kölsch 3\n",
      "Weizenbock 3\n",
      "Pilsner - Other 3\n",
      "Dunkelweizen 3\n",
      "Belgian Strong Dark Ale 3\n",
      "Märzen 3\n",
      "Rye Beer 3\n",
      "Stout - Imperial Milk / Sweet 3\n",
      "Altbier 2\n",
      "English Mild Ale 2\n",
      "Lager - Helles 2\n",
      "Red Ale - American Amber / Red 2\n",
      "Lager - Dark 2\n",
      "Pale Ale - Belgian 2\n",
      "Stout - Oyster 2\n",
      "Scottish Ale 2\n",
      "Pumpkin / Yam Beer 2\n",
      "Kellerbier / Zwickelbier 2\n",
      "Porter - Imperial / Double 2\n",
      "Barleywine - English 2\n",
      "Smoked Beer 2\n",
      "Lager - Dortmunder / Export 2\n",
      "Doppelbock  2\n",
      "Belgian Strong Golden Ale 2\n",
      "Kristallweizen  2\n",
      "Red Ale - Imperial / Double 2\n",
      "Witbier 2\n",
      "Blonde Ale 2\n",
      "Sour - Flanders Red Ale 1\n",
      "IPA - Session / India Session Ale 1\n",
      "Gluten-Free 1\n",
      "IPA - Belgian 1\n",
      "Roggenbier 1\n",
      "Brown Ale - English 1\n",
      "Lager - Euro 1\n",
      "Saison / Farmhouse Ale 1\n",
      "IPA - English 1\n",
      "Porter - Baltic 1\n",
      "Lager - North American Adjunct 1\n",
      "Old Ale 1\n",
      "Blonde Ale - Belgian Blonde / Golden 1\n",
      "English Bitter 1\n",
      "Sour - Gose 1\n",
      "Red Ale - Irish 1\n",
      "Lager - Vienna 1\n",
      "Shandy / Radler 1\n",
      "Belgian Tripel 1\n",
      "Golden Ale 1\n",
      "Maibock / Heller (Helles) Bock 1\n",
      "Pilsner - Czech 1\n",
      "Stout - Foreign / Export 1\n",
      "Red Ale - Other 1\n",
      "Schwarzbier 1\n"
     ]
    }
   ],
   "source": [
    "# Check style counts\n",
    "styleCounts = dict()\n",
    "for b in uniqueBeers:\n",
    "    if b['beer']['beer_style'] not in styleCounts:\n",
    "        styleCounts[b['beer']['beer_style']] = 0\n",
    "    styleCounts[b['beer']['beer_style']] += 1\n",
    "\n",
    "for s in sorted(styleCounts, key=styleCounts.get, reverse=True):\n",
    "    print s, styleCounts[s]"
   ]
  },
  {
   "cell_type": "code",
   "execution_count": 6,
   "metadata": {
    "collapsed": false
   },
   "outputs": [
    {
     "name": "stdout",
     "output_type": "stream",
     "text": [
      "New Holland Brewing Company 17\n",
      "Bell's Brewery 13\n",
      "South Bend Brew Werks 10\n",
      "Boston Beer Company 10\n",
      "Bare Hands Brewery 8\n",
      "Evil Czech Brewery 8\n",
      "Great Lakes Brewing Company 7\n",
      "Upland Brewing Company 7\n",
      "Founders Brewing Co. 6\n",
      "Silver Harbor Brewing 6\n",
      "Stone Brewing 6\n",
      "Goshen Brewing Company 6\n",
      "Market Garden Brewery 6\n",
      "Crooked Ewe Brewery 5\n",
      "North Pier Brewing Company 5\n",
      "Gordon Biersch Brewery & Restaurant 5\n",
      "Left Hand Brewing Company 5\n",
      "Alltech Lexington Brewing & Distilling Co. 4\n",
      "The Tap Brewery 4\n",
      "Dogfish Head Craft Brewery 4\n",
      "Anadolu Efes 4\n",
      "Jackalope Brewing Company 4\n",
      "Lagunitas Brewing Company 3\n",
      "Sierra Nevada Brewing Co. 3\n",
      "Boulevard Brewing Co. 3\n",
      "Greenbush Brewing Company 3\n",
      "Samuel Smith's Old Brewery 3\n",
      "Goose Island Beer Co. 3\n",
      "Forest & Main Brewing Company 3\n",
      "Rogue Ales & Spirits 3\n",
      "Breckenridge Brewery 3\n",
      "Quaff ON! Brewing Company 3\n",
      "Charles Wells Brewery 3\n",
      "Ballast Point Brewing & Spirits 3\n",
      "Evil Twin Brewing 3\n",
      "Saugatuck Brewing Company 3\n",
      "Brauerei Beck 3\n",
      "Southern Tier Brewing Company 3\n",
      "Yazoo Brewing Company 2\n",
      "Short's Brewing Company 2\n",
      "Fountain Square Brewing Company 2\n",
      "Kona Brewing Company 2\n",
      "Erdinger Weissbräu 2\n",
      "Gordon Biersch Brewing Company 2\n",
      "Yards Brewing Co. 2\n",
      "Jacob Leinenkugel Brewing Company 2\n",
      "Arrogant Brewing 2\n",
      "Flying Dog Brewery 2\n",
      "Two Brothers Brewing Company 2\n",
      "Round Barn Brewery 2\n",
      "Kulmbacher Brauerei 2\n",
      "Jaws Brewery 2\n",
      "Brewery Ommegang 2\n",
      "Brooklyn Brewery 2\n",
      "Flat12 Bierwerks 2\n",
      "Great Divide Brewing Company 1\n",
      "Velké Březno 1\n",
      "Triton Brewing 1\n",
      "Mayflower Brewing Company 1\n",
      "Anchor Brewing Company 1\n",
      "Blue Moon Brewing Company 1\n",
      "Resignation Brewery 1\n",
      "Central Waters Brewing Company 1\n",
      "Lost Coast Brewery 1\n",
      "Coney Island Brewery 1\n",
      "Uerige Obergärige Hausbrauerei 1\n",
      "Magic Hat Brewing Company 1\n",
      "Dark Horse Brewing Co. 1\n",
      "Einstök Ölgerð 1\n",
      "Lost Forty Brewing 1\n",
      "Guinness 1\n",
      "Brasserie Dieu du Ciel! 1\n",
      "Thirsty Dog Brewing Company 1\n",
      "DuClaw Brewing Company 1\n",
      "Orkney Brewery 1\n",
      "Small Town Brewery 1\n",
      "Brouwerij Rodenbach 1\n",
      "3 Floyds Brewing Company 1\n",
      "Bayerische Staatsbrauerei Weihenstephan 1\n",
      "Cölner Hofbräu Früh 1\n",
      "Tallgrass Brewing Company 1\n",
      "Brouwerij Huyghe 1\n",
      "Deschutes Brewery 1\n",
      "Cambridge Brewing Company 1\n",
      "Ozark Beer Company 1\n",
      "Adnams 1\n",
      "Coors Brewing Company 1\n",
      "Carlsberg Group 1\n",
      "Arcadia Brewing Company (Arcadia Ales) 1\n",
      "Schlafly - The Saint Louis Brewery 1\n",
      "Mother's Brewing Company 1\n",
      "Fish Brewing Company 1\n",
      "Goodwood Brewing 1\n",
      "Aeronaut Brewing Company 1\n",
      "Rhinelander Brewing Company 1\n",
      "Privatbrauerei Ayinger 1\n",
      "Georgetown Trading Co 1\n",
      "Heavy Seas Beer 1\n",
      "Tyranena Brewing 1\n",
      "Boddington's Brewery 1\n",
      "Boulder Beer Company 1\n",
      "New Belgium Brewing Company 1\n",
      "Atwater Brewery 1\n",
      "Tyskie Browary Książęce (Kompania Piwowarska) 1\n",
      "Fat Head's Brewery 1\n",
      "Epic Brewing Co. (Utah, Colorado) 1\n",
      "Radeberger Gruppe 1\n",
      "North Coast Brewing Company 1\n",
      "Abita Brewing Company 1\n",
      "Yuengling Brewery 1\n",
      "Victory Brewing Company 1\n",
      "Omission Beer 1\n",
      "Oskar Blues Brewery 1\n",
      "Belhaven Brewery 1\n",
      "Hacker-Pschorr 1\n"
     ]
    }
   ],
   "source": [
    "# Most preferred brewery\n",
    "breweryCount = dict()\n",
    "for b in uniqueBeers:\n",
    "    if b['brewery']['brewery_name'] not in breweryCount:\n",
    "        breweryCount[b['brewery']['brewery_name']] = 0\n",
    "    breweryCount[b['brewery']['brewery_name']] += 1\n",
    "\n",
    "for s in sorted(breweryCount, key=breweryCount.get, reverse=True):\n",
    "    print s, breweryCount[s]"
   ]
  },
  {
   "cell_type": "code",
   "execution_count": 6,
   "metadata": {
    "collapsed": false
   },
   "outputs": [
    {
     "name": "stdout",
     "output_type": "stream",
     "text": [
      "Southern Tier Brewing Company Crème Brûlée 4.75\n",
      "Bell's Brewery Black Note Stout (2016) 4.75\n",
      "Dogfish Head Craft Brewery Raison D'Extra 4.75\n",
      "Alltech Lexington Brewing & Distilling Co. Kentucky Bourbon Barrel Barleywine 4.75\n",
      "New Holland Brewing Company Pure Brews Porter 4.75\n",
      "New Holland Brewing Company Dragon's Milk Reserve: With Basil 4.75\n",
      "New Holland Brewing Company Dragon's Milk Reserve: Raspberry Lemon 4.75\n",
      "Crooked Ewe Brewery Bourbon Barrel Aged Wendigo 4.75\n",
      "Adnams Tally-Ho Reserve 2012 4.75\n",
      "Upland Brewing Company Teddy Bear Kisses 4.75\n",
      "New Holland Brewing Company Dragon's Milk 4.75\n",
      "South Bend Brew Werks BQ4 Belgian Quad 4.5\n",
      "Silver Harbor Brewing Cookie Monsta 4.5\n",
      "North Pier Brewing Company Drake's Drum 4.5\n",
      "Heavy Seas Beer Yule Tide  (2016) 4.5\n",
      "Stone Brewing Stone Xocoveza (2016) 4.5\n",
      "Boulevard Brewing Co. Bourbon Barrel Quad 4.5\n",
      "Great Lakes Brewing Company Blackout Stout 4.5\n",
      "Yards Brewing Co. Chocolate Love Stout 4.5\n",
      "Brewery Ommegang Three Philosophers (2016) 4.5\n",
      "Alltech Lexington Brewing & Distilling Co. Kentucky Honey Barrel Brown Ale (2016) 4.5\n",
      "Jackalope Brewing Company Spruce Beersteen 4.5\n",
      "Jackalope Brewing Company Snowman Stout 4.5\n",
      "Yazoo Brewing Company Sue 4.5\n",
      "Evil Twin Brewing Aún Más A Jesús 4.5\n",
      "South Bend Brew Werks Dead Bodies In the Beer Cellar 4.5\n",
      "Bell's Brewery Special Double Cream Stout 4.5\n",
      "Georgetown Trading Co James E Pepper 1776 4.5\n",
      "Mother's Brewing Company Bourbon-Barrel Aged Imperial Three Blind Mice 4.5\n",
      "Left Hand Brewing Company Wake Up Dead Nitro 4.5\n"
     ]
    }
   ],
   "source": [
    "for b in sorted(uniqueBeers, key=lambda x: x['rating_score'], reverse=True)[:30]:\n",
    "    print b['brewery']['brewery_name'], b['beer']['beer_name'], b['rating_score']"
   ]
  },
  {
   "cell_type": "code",
   "execution_count": 7,
   "metadata": {
    "collapsed": false
   },
   "outputs": [
    {
     "name": "stdout",
     "output_type": "stream",
     "text": [
      "Avg. IBU: 30.3941368078\n",
      "Avg. ABV: 6.92944625407\n"
     ]
    },
    {
     "data": {
      "image/png": "[encoded data removed]",
      "text/plain": [
       "<matplotlib.figure.Figure at 0x10c91d5d0>"
      ]
     },
     "metadata": {},
     "output_type": "display_data"
    }
   ],
   "source": [
    "ibuList, abvList = list(), list()\n",
    "for b in uniqueBeers:\n",
    "    ibuList.append(b['beer']['beer_ibu'])\n",
    "    abvList.append(b['beer']['beer_abv'])\n",
    "    \n",
    "print 'Avg. IBU: {}'.format(np.mean(ibuList))\n",
    "print 'Avg. ABV: {}'.format(np.mean(abvList))\n",
    "\n",
    "fig, axarr = plt.subplots(1, 2, figsize=(7,3))\n",
    "axarr[0].hist(ibuList, bins=20, alpha=0.5, linewidth=0)\n",
    "axarr[0].set_xlabel('IBU (International Bitterness Units)', fontsize=12)\n",
    "axarr[0].tick_params(axis='both', which='major', labelsize=12)\n",
    "\n",
    "axarr[1].hist(abvList, bins=20, alpha=0.5, linewidth=0)\n",
    "axarr[1].set_xlabel('ABV (Alcohol By Volume)', fontsize=12)\n",
    "axarr[1].tick_params(axis='both', which='major', labelsize=12)\n",
    "plt.tight_layout()\n"
   ]
  },
  {
   "cell_type": "code",
   "execution_count": 8,
   "metadata": {
    "collapsed": false
   },
   "outputs": [
    {
     "name": "stdout",
     "output_type": "stream",
     "text": [
      "(307, 2)\n"
     ]
    },
    {
     "data": {
      "image/png": "[encoded data removed]",
      "text/plain": [
       "<matplotlib.figure.Figure at 0x10f0b6d90>"
      ]
     },
     "metadata": {},
     "output_type": "display_data"
    }
   ],
   "source": [
    "# Beer ABV vs IBU\n",
    "beerMeasures = list()\n",
    "for b in uniqueBeers:\n",
    "    beerMeasures.append((b['beer']['beer_abv'],b['beer']['beer_ibu']))\n",
    "beerMeasures = np.array(beerMeasures)\n",
    "print beerMeasures.shape\n",
    "\n",
    "fig = plt.figure(figsize=(4,4))\n",
    "plt.scatter(beerMeasures[:,0], beerMeasures[:,1], alpha=0.5)\n",
    "plt.xlim(xmin=0)\n",
    "plt.ylim(ymin=0)\n",
    "plt.xlabel('ABV (Alcohol By Volume)', fontsize=12)\n",
    "plt.ylabel('IBU (International Bitterness Units)', fontsize=12)\n",
    "plt.tick_params(axis='both', which='major', labelsize=14)"
   ]
  },
  {
   "cell_type": "code",
   "execution_count": 9,
   "metadata": {
    "collapsed": false
   },
   "outputs": [
    {
     "name": "stdout",
     "output_type": "stream",
     "text": [
      "2.0 4.75\n"
     ]
    },
    {
     "data": {
      "image/png": "[encoded data removed]",
      "text/plain": [
       "<matplotlib.figure.Figure at 0x103b6cb50>"
      ]
     },
     "metadata": {},
     "output_type": "display_data"
    }
   ],
   "source": [
    "# Scatter plot of avg. ratings vs. my ratings\n",
    "scatterData = list()\n",
    "for b in uniqueBeers:\n",
    "    if b['beer']['rating_score'] == 0:\n",
    "        continue\n",
    "    scatterData.append((b['beer']['rating_score'], b['rating_score']))\n",
    "scatterData = np.array(scatterData)    \n",
    "\n",
    "fig = plt.figure(figsize=(4,4))\n",
    "plt.plot([0,5],[0,5],'r--', linewidth=2)\n",
    "plt.scatter(scatterData[:,0], scatterData[:,1], alpha=0.5)\n",
    "\n",
    "minV, maxV = np.min(scatterData), np.max(scatterData)\n",
    "print minV, maxV\n",
    "plt.xlim((minV-0.2, maxV+0.2))\n",
    "plt.ylim((minV-0.2, maxV+0.2))\n",
    "plt.xlabel('Avg. rating', fontsize=14)\n",
    "plt.ylabel('My rating', fontsize=14)\n",
    "plt.tick_params(axis='both', which='major', labelsize=12)"
   ]
  },
  {
   "cell_type": "code",
   "execution_count": 10,
   "metadata": {
    "collapsed": false
   },
   "outputs": [
    {
     "name": "stdout",
     "output_type": "stream",
     "text": [
      "(303, 3)\n"
     ]
    },
    {
     "data": {
      "image/png": "[encoded data removed]",
      "text/plain": [
       "<matplotlib.figure.Figure at 0x10f3e0490>"
      ]
     },
     "metadata": {},
     "output_type": "display_data"
    }
   ],
   "source": [
    "# What kind of beers I like more than avg. people\n",
    "scatterData = list()\n",
    "for b in uniqueBeers:\n",
    "    if b['beer']['rating_score'] == 0:\n",
    "        continue\n",
    "    scatterData.append((b['rating_score'] - b['beer']['rating_score'], \n",
    "                        b['beer']['beer_abv'],\n",
    "                        b['beer']['beer_ibu']))\n",
    "scatterData = np.array(scatterData)    \n",
    "print scatterData.shape\n",
    "\n",
    "fig, axarr = plt.subplots(1, 2, figsize=(7,3), sharey=True)\n",
    "axarr[0].scatter(scatterData[:,2], scatterData[:,0], alpha=0.5)\n",
    "axarr[0].axhline(y=0, c='k', linewidth=2, linestyle='--')\n",
    "fit = np.polyfit(scatterData[:,2], scatterData[:,0], 1)\n",
    "fit_fn = np.poly1d(fit) \n",
    "axarr[0].plot(scatterData[:,2], fit_fn(scatterData[:,2]), 'r--', linewidth=2)\n",
    "axarr[0].set_xlim(xmin=-5, xmax=105)\n",
    "axarr[0].set_xlabel('IBU (International Bitterness Units)', fontsize=12)\n",
    "axarr[0].set_ylabel('Rating difference', fontsize=12)\n",
    "axarr[0].tick_params(axis='both', which='major', labelsize=12)\n",
    "\n",
    "axarr[1].scatter(scatterData[:,1], scatterData[:,0], alpha=0.5)\n",
    "axarr[1].axhline(y=0, c='k', linewidth=2, linestyle='--')\n",
    "fit = np.polyfit(scatterData[:,1], scatterData[:,0], 1)\n",
    "fit_fn = np.poly1d(fit) \n",
    "axarr[1].plot(scatterData[:,1], fit_fn(scatterData[:,1]), 'r--', linewidth=2)\n",
    "axarr[1].set_xlim(xmin=-1, xmax=max(scatterData[:,1])+1)\n",
    "axarr[1].set_xlabel('ABV (Alcohol By Volume)', fontsize=12)\n",
    "axarr[1].tick_params(axis='both', which='major', labelsize=12)\n",
    "plt.tight_layout()\n"
   ]
  },
  {
   "cell_type": "code",
   "execution_count": 11,
   "metadata": {
    "collapsed": false
   },
   "outputs": [
    {
     "data": {
      "image/png": "[encoded data removed]",
      "text/plain": [
       "<matplotlib.figure.Figure at 0x10a1a8450>"
      ]
     },
     "metadata": {},
     "output_type": "display_data"
    }
   ],
   "source": [
    "# Cumulative beer discoveries\n",
    "dTimes = list()\n",
    "for b in uniqueBeers:\n",
    "    dTimes.append(datetime.datetime.strptime(b['first_created_at'].split(' -')[0],\n",
    "                                             '%a, %d %b %Y %H:%M:%S'))\n",
    "dTimes.sort()\n",
    "    \n",
    "fig = plt.figure(figsize=(7,3))\n",
    "plt.plot(dTimes, range(len(dTimes)), linewidth=2)\n",
    "plt.ylabel('Unique beer count', fontsize=14)\n",
    "plt.xticks(rotation=30)\n",
    "plt.tick_params(axis='both', which='major', labelsize=12)"
   ]
  },
  {
   "cell_type": "code",
   "execution_count": null,
   "metadata": {
    "collapsed": true
   },
   "outputs": [],
   "source": []
  }
 ],
 "metadata": {
  "kernelspec": {
   "display_name": "Python 2",
   "language": "python",
   "name": "python2"
  },
  "language_info": {
   "codemirror_mode": {
    "name": "ipython",
    "version": 2
   },
   "file_extension": ".py",
   "mimetype": "text/x-python",
   "name": "python",
   "nbconvert_exporter": "python",
   "pygments_lexer": "ipython2",
   "version": "2.7.12"
  }
 },
 "nbformat": 4,
 "nbformat_minor": 0
}
